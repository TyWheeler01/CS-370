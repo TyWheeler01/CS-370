{
 "cells": [
  {
   "cell_type": "markdown",
   "metadata": {},
   "source": [
    "# Treasure Hunt Game Notebook\n",
    "\n",
    "## Read and Review Your Starter Code\n",
    "The theme of this project is a popular treasure hunt game in which the player needs to find the treasure before the pirate does. While you will not be developing the entire game, you will write the part of the game that represents the intelligent agent, which is a pirate in this case. The pirate will try to find the optimal path to the treasure using deep Q-learning. \n",
    "\n",
    "You have been provided with two Python classes and this notebook to help you with this assignment. The first class, TreasureMaze.py, represents the environment, which includes a maze object defined as a matrix. The second class, GameExperience.py, stores the episodes – that is, all the states that come in between the initial state and the terminal state. This is later used by the agent for learning by experience, called \"exploration\". This notebook shows how to play a game. Your task is to complete the deep Q-learning implementation for which a skeleton implementation has been provided. The code blocks you will need to complete has #TODO as a header.\n",
    "\n",
    "First, read and review the next few code and instruction blocks to understand the code that you have been given."
   ]
  },
  {
   "cell_type": "code",
   "execution_count": 1,
   "metadata": {},
   "outputs": [
    {
     "name": "stderr",
     "output_type": "stream",
     "text": [
      "Using TensorFlow backend.\n"
     ]
    }
   ],
   "source": [
    "from __future__ import print_function\n",
    "import os, sys, time, datetime, json, random\n",
    "import numpy as np\n",
    "from keras.models import Sequential\n",
    "from keras.layers.core import Dense, Activation\n",
    "from keras.optimizers import SGD , Adam, RMSprop\n",
    "from keras.layers.advanced_activations import PReLU\n",
    "import matplotlib.pyplot as plt\n",
    "from TreasureMaze import TreasureMaze\n",
    "from GameExperience import GameExperience\n",
    "%matplotlib inline"
   ]
  },
  {
   "cell_type": "markdown",
   "metadata": {},
   "source": [
    "The following code block contains an 8x8 matrix that will be used as a maze object:"
   ]
  },
  {
   "cell_type": "code",
   "execution_count": 2,
   "metadata": {},
   "outputs": [],
   "source": [
    "maze = np.array([\n",
    "    [ 1.,  0.,  1.,  1.,  1.,  1.,  1.,  1.],\n",
    "    [ 1.,  0.,  1.,  1.,  1.,  0.,  1.,  1.],\n",
    "    [ 1.,  1.,  1.,  1.,  0.,  1.,  0.,  1.],\n",
    "    [ 1.,  1.,  1.,  0.,  1.,  1.,  1.,  1.],\n",
    "    [ 1.,  1.,  0.,  1.,  1.,  1.,  1.,  1.],\n",
    "    [ 1.,  1.,  1.,  0.,  1.,  0.,  0.,  0.],\n",
    "    [ 1.,  1.,  1.,  0.,  1.,  1.,  1.,  1.],\n",
    "    [ 1.,  1.,  1.,  1.,  0.,  1.,  1.,  1.]\n",
    "])"
   ]
  },
  {
   "cell_type": "markdown",
   "metadata": {},
   "source": [
    "This helper function allows a visual representation of the maze object:"
   ]
  },
  {
   "cell_type": "code",
   "execution_count": 3,
   "metadata": {},
   "outputs": [],
   "source": [
    "def show(qmaze):\n",
    "    plt.grid('on')\n",
    "    nrows, ncols = qmaze.maze.shape\n",
    "    ax = plt.gca()\n",
    "    ax.set_xticks(np.arange(0.5, nrows, 1))\n",
    "    ax.set_yticks(np.arange(0.5, ncols, 1))\n",
    "    ax.set_xticklabels([])\n",
    "    ax.set_yticklabels([])\n",
    "    canvas = np.copy(qmaze.maze)\n",
    "    for row,col in qmaze.visited:\n",
    "        canvas[row,col] = 0.6\n",
    "    pirate_row, pirate_col, _ = qmaze.state\n",
    "    canvas[pirate_row, pirate_col] = 0.3   # pirate cell\n",
    "    canvas[nrows-1, ncols-1] = 0.9 # treasure cell\n",
    "    img = plt.imshow(canvas, interpolation='none', cmap='gray')\n",
    "    return img"
   ]
  },
  {
   "cell_type": "markdown",
   "metadata": {},
   "source": [
    "The pirate agent can move in four directions: left, right, up, and down. \n",
    "\n",
    "While the agent primarily learns by experience through exploitation, often, the agent can choose to explore the environment to find previously undiscovered paths. This is called \"exploration\" and is defined by epsilon. This value is typically a lower value such as 0.1, which means for every ten attempts, the agent will attempt to learn by experience nine times and will randomly explore a new path one time. You are encouraged to try various values for the exploration factor and see how the algorithm performs."
   ]
  },
  {
   "cell_type": "code",
   "execution_count": 4,
   "metadata": {},
   "outputs": [],
   "source": [
    "LEFT = 0\n",
    "UP = 1\n",
    "RIGHT = 2\n",
    "DOWN = 3\n",
    "\n",
    "\n",
    "# Exploration factor\n",
    "epsilon = 0.1\n",
    "\n",
    "# Actions dictionary\n",
    "actions_dict = {\n",
    "    LEFT: 'left',\n",
    "    UP: 'up',\n",
    "    RIGHT: 'right',\n",
    "    DOWN: 'down',\n",
    "}\n",
    "\n",
    "num_actions = len(actions_dict)\n"
   ]
  },
  {
   "cell_type": "markdown",
   "metadata": {},
   "source": [
    "The sample code block and output below show creating a maze object and performing one action (DOWN), which returns the reward. The resulting updated environment is visualized."
   ]
  },
  {
   "cell_type": "code",
   "execution_count": 5,
   "metadata": {},
   "outputs": [
    {
     "name": "stdout",
     "output_type": "stream",
     "text": [
      "reward= -0.04\n"
     ]
    },
    {
     "data": {
      "text/plain": [
       "<matplotlib.image.AxesImage at 0x1f5c48e0f08>"
      ]
     },
     "execution_count": 5,
     "metadata": {},
     "output_type": "execute_result"
    },
    {
     "data": {
      "image/png": "[encoded data removed]",
      "text/plain": [
       "<Figure size 432x288 with 1 Axes>"
      ]
     },
     "metadata": {
      "needs_background": "light"
     },
     "output_type": "display_data"
    }
   ],
   "source": [
    "qmaze = TreasureMaze(maze)\n",
    "canvas, reward, game_over = qmaze.act(DOWN)\n",
    "print(\"reward=\", reward)\n",
    "show(qmaze)"
   ]
  },
  {
   "cell_type": "markdown",
   "metadata": {},
   "source": [
    "This function simulates a full game based on the provided trained model. The other parameters include the TreasureMaze object and the starting position of the pirate."
   ]
  },
  {
   "cell_type": "code",
   "execution_count": 6,
   "metadata": {},
   "outputs": [],
   "source": [
    "def play_game(model, qmaze, pirate_cell):\n",
    "    qmaze.reset(pirate_cell)\n",
    "    envstate = qmaze.observe()\n",
    "    while True:\n",
    "        prev_envstate = envstate\n",
    "        # get next action\n",
    "        q = model.predict(prev_envstate)\n",
    "        action = np.argmax(q[0])\n",
    "\n",
    "        # apply action, get rewards and new state\n",
    "        envstate, reward, game_status = qmaze.act(action)\n",
    "        if game_status == 'win':\n",
    "            return True\n",
    "        elif game_status == 'lose':\n",
    "            return False"
   ]
  },
  {
   "cell_type": "markdown",
   "metadata": {},
   "source": [
    "This function helps you to determine whether the pirate can win any game at all. If your maze is not well designed, the pirate may not win any game at all. In this case, your training would not yield any result. The provided maze in this notebook ensures that there is a path to win and you can run this method to check."
   ]
  },
  {
   "cell_type": "code",
   "execution_count": 7,
   "metadata": {},
   "outputs": [],
   "source": [
    "def completion_check(model, qmaze):\n",
    "    for cell in qmaze.free_cells:\n",
    "        if not qmaze.valid_actions(cell):\n",
    "            return False\n",
    "        if not play_game(model, qmaze, cell):\n",
    "            return False\n",
    "    return True"
   ]
  },
  {
   "cell_type": "markdown",
   "metadata": {},
   "source": [
    "The code you have been given in this block will build the neural network model. Review the code and note the number of layers, as well as the activation, optimizer, and loss functions that are used to train the model."
   ]
  },
  {
   "cell_type": "code",
   "execution_count": 8,
   "metadata": {},
   "outputs": [],
   "source": [
    "def build_model(maze):\n",
    "    model = Sequential()\n",
    "    model.add(Dense(maze.size, input_shape=(maze.size,)))\n",
    "    model.add(PReLU())\n",
    "    model.add(Dense(maze.size))\n",
    "    model.add(PReLU())\n",
    "    model.add(Dense(num_actions))\n",
    "    model.compile(optimizer='adam', loss='mse')\n",
    "    return model"
   ]
  },
  {
   "cell_type": "markdown",
   "metadata": {},
   "source": [
    "# #TODO: Complete the Q-Training Algorithm Code Block\n",
    "\n",
    "This is your deep Q-learning implementation. The goal of your deep Q-learning implementation is to find the best possible navigation sequence that results in reaching the treasure cell while maximizing the reward. In your implementation, you need to determine the optimal number of epochs to achieve a 100% win rate.\n",
    "\n",
    "You will need to complete the section starting with #pseudocode. The pseudocode has been included for you."
   ]
  },
  {
   "cell_type": "code",
   "execution_count": 9,
   "metadata": {},
   "outputs": [],
   "source": [
    "def qtrain(model, maze, **opt):\n",
    "\n",
    "    # exploration factor\n",
    "    global epsilon \n",
    "\n",
    "    # number of epochs\n",
    "    n_epoch = opt.get('n_epoch', 15000)\n",
    "\n",
    "    # maximum memory to store episodes\n",
    "    max_memory = opt.get('max_memory', 1000)\n",
    "\n",
    "    # maximum data size for training\n",
    "    data_size = opt.get('data_size', 50)\n",
    "\n",
    "    # start time\n",
    "    start_time = datetime.datetime.now()\n",
    "\n",
    "    # Construct environment/game from numpy array: maze (see above)\n",
    "    qmaze = TreasureMaze(maze)\n",
    "\n",
    "    # Initialize experience replay object\n",
    "    experience = GameExperience(model, max_memory=max_memory)\n",
    "    win_history = []   # history of win/lose game\n",
    "    hsize = qmaze.maze.size // 2   # history window size\n",
    "    win_rate = 0.0\n",
    "    # Beginning loop or each epoch\n",
    "    for epoch in range(n_epoch):\n",
    "        loss = 0.0\n",
    "        n_episodes = 0\n",
    "        # Randomly choose a start position for the agent in the maze\n",
    "        agent_cell = random.choice(qmaze.free_cells)  # choose a random free cell\n",
    "        qmaze.reset(agent_cell)\n",
    "        envstate = qmaze.observe()\n",
    "        step_count = 0  # Limit episode length to avoid infinite loops\n",
    "        while True:\n",
    "            prev_envstate = envstate  # Store previous state\n",
    "            if np.random.rand() < epsilon:\n",
    "                # Exploration which chooses a random action\n",
    "                action = np.random.choice(num_actions)\n",
    "            else:\n",
    "                # Exploitation that chooses the best action based on the model's Q-values\n",
    "                q_values = model.predict(prev_envstate)\n",
    "                action = np.argmax(q_values[0])\n",
    "            envstate, reward, game_status = qmaze.act(action)\n",
    "            episode = [prev_envstate, action, reward, envstate, game_status]\n",
    "            experience.remember(episode)  # Store the experience\n",
    "            # Train the model with the stored experiences\n",
    "            inputs, targets = experience.get_data(data_size=data_size)\n",
    "            history = model.fit(inputs, targets, epochs=1, verbose=0)\n",
    "            loss += history.history['loss'][0]\n",
    "            n_episodes += 1  # Increment the number of episodes played\n",
    "            step_count += 1\n",
    "            # If the game is over (win or lose), break out of the loop\n",
    "            if game_status in ['win', 'lose'] or step_count > 200:\n",
    "                win_history.append(1 if game_status == 'win' else 0)  # Record win/loss\n",
    "                break\n",
    "\n",
    "        # Calculate the win rate over the last hsize episodes\n",
    "        if len(win_history) > hsize:\n",
    "            win_rate = sum(win_history[-hsize:]) / hsize\n",
    "\n",
    "        # Gradually reduce epsilon to balance exploration and exploitation\n",
    "        if epsilon > 0.05:\n",
    "            epsilon *= 0.999\n",
    "\n",
    "        # Print progress for each epoch\n",
    "        dt = datetime.datetime.now() - start_time\n",
    "        t = format_time(dt.total_seconds())  # Format elapsed time\n",
    "        template = \"Epoch: {:03d}/{:d} | Loss: {:.4f} | Episodes: {:d} | Win count: {:d} | Win rate: {:.3f} | time: {}\"\n",
    "        print(template.format(epoch, n_epoch-1, loss, n_episodes, sum(win_history), win_rate, t))\n",
    "\n",
    "        # If win rate exceeds threshold reduce the exploration\n",
    "        if win_rate > 0.9:\n",
    "            epsilon = 0.05\n",
    "\n",
    "        # Early stop if the agent wins all recent games and passes completion check\n",
    "        if sum(win_history[-hsize:]) == hsize and completion_check(model, qmaze):\n",
    "            print(\"Reached 100%% win rate at epoch: %d\" % (epoch,))\n",
    "            break\n",
    "\n",
    "    # Calculate the total training time and print it\n",
    "    dt = datetime.datetime.now() - start_time\n",
    "    seconds = dt.total_seconds()\n",
    "    t = format_time(seconds)\n",
    "    print(\"n_epoch: %d, max_mem: %d, data: %d, time: %s\" % (epoch, max_memory, data_size, t))\n",
    "    # Return the total time taken for training\n",
    "    return seconds\n",
    "\n",
    "def format_time(seconds):\n",
    "    if seconds < 400:\n",
    "        s = float(seconds)\n",
    "        return \"%.1f seconds\" % (s,)\n",
    "    elif seconds < 4000:\n",
    "        m = seconds / 60.0\n",
    "        return \"%.2f minutes\" % (m,)\n",
    "    else:\n",
    "        h = seconds / 3600.0\n",
    "        return \"%.2f hours\" % (h,)"
   ]
  },
  {
   "cell_type": "markdown",
   "metadata": {},
   "source": [
    "## Test Your Model\n",
    "\n",
    "Now we will start testing the deep Q-learning implementation. To begin, select **Cell**, then **Run All** from the menu bar. This will run your notebook. As it runs, you should see output begin to appear beneath the next few cells. The code below creates an instance of TreasureMaze."
   ]
  },
  {
   "cell_type": "code",
   "execution_count": 10,
   "metadata": {},
   "outputs": [
    {
     "data": {
      "text/plain": [
       "<matplotlib.image.AxesImage at 0x1f5c49a6108>"
      ]
     },
     "execution_count": 10,
     "metadata": {},
     "output_type": "execute_result"
    },
    {
     "data": {
      "image/png": "[encoded data removed]",
      "text/plain": [
       "<Figure size 432x288 with 1 Axes>"
      ]
     },
     "metadata": {
      "needs_background": "light"
     },
     "output_type": "display_data"
    }
   ],
   "source": [
    "qmaze = TreasureMaze(maze)\n",
    "show(qmaze)"
   ]
  },
  {
   "cell_type": "markdown",
   "metadata": {},
   "source": [
    "In the next code block, you will build your model and train it using deep Q-learning. Note: This step takes several minutes to fully run."
   ]
  },
  {
   "cell_type": "code",
   "execution_count": 11,
   "metadata": {},
   "outputs": [
    {
     "name": "stdout",
     "output_type": "stream",
     "text": [
      "Epoch: 000/14999 | Loss: 0.2960 | Episodes: 141 | Win count: 0 | Win rate: 0.000 | time: 20.2 seconds\n",
      "Epoch: 001/14999 | Loss: 0.1217 | Episodes: 132 | Win count: 0 | Win rate: 0.000 | time: 38.6 seconds\n",
      "Epoch: 002/14999 | Loss: 0.1184 | Episodes: 139 | Win count: 0 | Win rate: 0.000 | time: 57.0 seconds\n",
      "Epoch: 003/14999 | Loss: 0.1311 | Episodes: 150 | Win count: 0 | Win rate: 0.000 | time: 76.6 seconds\n",
      "Epoch: 004/14999 | Loss: 0.1198 | Episodes: 134 | Win count: 0 | Win rate: 0.000 | time: 94.4 seconds\n",
      "Epoch: 005/14999 | Loss: 0.0199 | Episodes: 21 | Win count: 1 | Win rate: 0.000 | time: 97.3 seconds\n",
      "Epoch: 006/14999 | Loss: 0.2054 | Episodes: 106 | Win count: 2 | Win rate: 0.000 | time: 111.0 seconds\n",
      "Epoch: 007/14999 | Loss: 0.4393 | Episodes: 140 | Win count: 2 | Win rate: 0.000 | time: 130.0 seconds\n",
      "Epoch: 008/14999 | Loss: 0.0345 | Episodes: 19 | Win count: 3 | Win rate: 0.000 | time: 132.4 seconds\n",
      "Epoch: 009/14999 | Loss: 0.5144 | Episodes: 141 | Win count: 3 | Win rate: 0.000 | time: 151.1 seconds\n",
      "Epoch: 010/14999 | Loss: 0.3482 | Episodes: 151 | Win count: 3 | Win rate: 0.000 | time: 172.1 seconds\n",
      "Epoch: 011/14999 | Loss: 0.2628 | Episodes: 131 | Win count: 3 | Win rate: 0.000 | time: 188.2 seconds\n",
      "Epoch: 012/14999 | Loss: 0.1366 | Episodes: 137 | Win count: 3 | Win rate: 0.000 | time: 206.6 seconds\n",
      "Epoch: 013/14999 | Loss: 0.1222 | Episodes: 139 | Win count: 3 | Win rate: 0.000 | time: 226.1 seconds\n"
     ]
    },
    {
     "name": "stderr",
     "output_type": "stream",
     "text": [
      "C:\\ProgramData\\Anaconda3\\lib\\site-packages\\keras\\callbacks\\callbacks.py:95: RuntimeWarning: Method (on_train_batch_end) is slow compared to the batch update (0.190694). Check your callbacks.\n",
      "  % (hook_name, delta_t_median), RuntimeWarning)\n"
     ]
    },
    {
     "name": "stdout",
     "output_type": "stream",
     "text": [
      "Epoch: 014/14999 | Loss: 0.0859 | Episodes: 134 | Win count: 3 | Win rate: 0.000 | time: 244.0 seconds\n",
      "Epoch: 015/14999 | Loss: 0.0776 | Episodes: 133 | Win count: 3 | Win rate: 0.000 | time: 262.9 seconds\n",
      "Epoch: 016/14999 | Loss: 0.0112 | Episodes: 3 | Win count: 4 | Win rate: 0.000 | time: 263.1 seconds\n",
      "Epoch: 017/14999 | Loss: 0.2319 | Episodes: 138 | Win count: 4 | Win rate: 0.000 | time: 281.4 seconds\n",
      "Epoch: 018/14999 | Loss: 0.1575 | Episodes: 152 | Win count: 4 | Win rate: 0.000 | time: 302.3 seconds\n",
      "Epoch: 019/14999 | Loss: 0.2042 | Episodes: 135 | Win count: 4 | Win rate: 0.000 | time: 321.2 seconds\n",
      "Epoch: 020/14999 | Loss: 0.1847 | Episodes: 144 | Win count: 4 | Win rate: 0.000 | time: 340.9 seconds\n",
      "Epoch: 021/14999 | Loss: 0.1248 | Episodes: 135 | Win count: 4 | Win rate: 0.000 | time: 359.2 seconds\n",
      "Epoch: 022/14999 | Loss: 0.1033 | Episodes: 139 | Win count: 4 | Win rate: 0.000 | time: 378.3 seconds\n",
      "Epoch: 023/14999 | Loss: 0.1158 | Episodes: 143 | Win count: 4 | Win rate: 0.000 | time: 397.8 seconds\n",
      "Epoch: 024/14999 | Loss: 0.0022 | Episodes: 3 | Win count: 5 | Win rate: 0.000 | time: 398.3 seconds\n",
      "Epoch: 025/14999 | Loss: 0.2371 | Episodes: 157 | Win count: 5 | Win rate: 0.000 | time: 6.97 minutes\n",
      "Epoch: 026/14999 | Loss: 0.2887 | Episodes: 154 | Win count: 5 | Win rate: 0.000 | time: 7.32 minutes\n",
      "Epoch: 027/14999 | Loss: 0.2631 | Episodes: 144 | Win count: 5 | Win rate: 0.000 | time: 7.64 minutes\n",
      "Epoch: 028/14999 | Loss: 0.2314 | Episodes: 143 | Win count: 5 | Win rate: 0.000 | time: 7.96 minutes\n",
      "Epoch: 029/14999 | Loss: 0.1603 | Episodes: 148 | Win count: 5 | Win rate: 0.000 | time: 8.29 minutes\n",
      "Epoch: 030/14999 | Loss: 0.1581 | Episodes: 140 | Win count: 5 | Win rate: 0.000 | time: 8.61 minutes\n",
      "Epoch: 031/14999 | Loss: 0.1308 | Episodes: 133 | Win count: 5 | Win rate: 0.000 | time: 8.92 minutes\n",
      "Epoch: 032/14999 | Loss: 0.1365 | Episodes: 145 | Win count: 5 | Win rate: 0.156 | time: 9.24 minutes\n",
      "Epoch: 033/14999 | Loss: 0.1344 | Episodes: 139 | Win count: 5 | Win rate: 0.156 | time: 9.56 minutes\n",
      "Epoch: 034/14999 | Loss: 0.0006 | Episodes: 1 | Win count: 6 | Win rate: 0.188 | time: 9.56 minutes\n",
      "Epoch: 035/14999 | Loss: 0.1113 | Episodes: 131 | Win count: 6 | Win rate: 0.188 | time: 9.86 minutes\n",
      "Epoch: 036/14999 | Loss: 0.0829 | Episodes: 131 | Win count: 6 | Win rate: 0.188 | time: 10.15 minutes\n",
      "Epoch: 037/14999 | Loss: 0.1119 | Episodes: 145 | Win count: 6 | Win rate: 0.156 | time: 10.48 minutes\n",
      "Epoch: 038/14999 | Loss: 0.1039 | Episodes: 139 | Win count: 6 | Win rate: 0.125 | time: 10.78 minutes\n",
      "Epoch: 039/14999 | Loss: 0.1172 | Episodes: 140 | Win count: 6 | Win rate: 0.125 | time: 11.09 minutes\n",
      "Epoch: 040/14999 | Loss: 0.0030 | Episodes: 3 | Win count: 7 | Win rate: 0.125 | time: 11.09 minutes\n",
      "Epoch: 041/14999 | Loss: 0.1401 | Episodes: 138 | Win count: 7 | Win rate: 0.125 | time: 11.41 minutes\n",
      "Epoch: 042/14999 | Loss: 0.1149 | Episodes: 141 | Win count: 7 | Win rate: 0.125 | time: 11.72 minutes\n",
      "Epoch: 043/14999 | Loss: 0.0555 | Episodes: 59 | Win count: 8 | Win rate: 0.156 | time: 11.84 minutes\n",
      "Epoch: 044/14999 | Loss: 0.0766 | Episodes: 35 | Win count: 9 | Win rate: 0.188 | time: 11.92 minutes\n"
     ]
    },
    {
     "name": "stderr",
     "output_type": "stream",
     "text": [
      "C:\\ProgramData\\Anaconda3\\lib\\site-packages\\keras\\callbacks\\callbacks.py:95: RuntimeWarning: Method (on_train_batch_end) is slow compared to the batch update (0.160594). Check your callbacks.\n",
      "  % (hook_name, delta_t_median), RuntimeWarning)\n"
     ]
    },
    {
     "name": "stdout",
     "output_type": "stream",
     "text": [
      "Epoch: 045/14999 | Loss: 0.2847 | Episodes: 140 | Win count: 9 | Win rate: 0.188 | time: 12.23 minutes\n",
      "Epoch: 046/14999 | Loss: 0.1874 | Episodes: 139 | Win count: 9 | Win rate: 0.188 | time: 12.53 minutes\n",
      "Epoch: 047/14999 | Loss: 0.2980 | Episodes: 142 | Win count: 9 | Win rate: 0.188 | time: 12.84 minutes\n",
      "Epoch: 048/14999 | Loss: 0.0494 | Episodes: 39 | Win count: 10 | Win rate: 0.188 | time: 12.93 minutes\n",
      "Epoch: 049/14999 | Loss: 0.1581 | Episodes: 139 | Win count: 10 | Win rate: 0.188 | time: 13.23 minutes\n",
      "Epoch: 050/14999 | Loss: 0.1243 | Episodes: 143 | Win count: 10 | Win rate: 0.188 | time: 13.57 minutes\n",
      "Epoch: 051/14999 | Loss: 0.1098 | Episodes: 137 | Win count: 10 | Win rate: 0.188 | time: 13.88 minutes\n",
      "Epoch: 052/14999 | Loss: 0.1044 | Episodes: 138 | Win count: 10 | Win rate: 0.188 | time: 14.21 minutes\n",
      "Epoch: 053/14999 | Loss: 0.0463 | Episodes: 59 | Win count: 11 | Win rate: 0.219 | time: 14.35 minutes\n",
      "Epoch: 054/14999 | Loss: 0.0971 | Episodes: 134 | Win count: 11 | Win rate: 0.219 | time: 14.67 minutes\n",
      "Epoch: 055/14999 | Loss: 0.1149 | Episodes: 139 | Win count: 11 | Win rate: 0.219 | time: 15.01 minutes\n",
      "Epoch: 056/14999 | Loss: 0.0028 | Episodes: 3 | Win count: 12 | Win rate: 0.219 | time: 15.02 minutes\n",
      "Epoch: 057/14999 | Loss: 0.1267 | Episodes: 143 | Win count: 12 | Win rate: 0.219 | time: 15.36 minutes\n",
      "Epoch: 058/14999 | Loss: 0.1384 | Episodes: 141 | Win count: 12 | Win rate: 0.219 | time: 15.68 minutes\n",
      "Epoch: 059/14999 | Loss: 0.1275 | Episodes: 138 | Win count: 12 | Win rate: 0.219 | time: 15.99 minutes\n",
      "Epoch: 060/14999 | Loss: 0.1224 | Episodes: 142 | Win count: 12 | Win rate: 0.219 | time: 16.33 minutes\n",
      "Epoch: 061/14999 | Loss: 0.0060 | Episodes: 7 | Win count: 13 | Win rate: 0.250 | time: 16.34 minutes\n",
      "Epoch: 062/14999 | Loss: 0.1212 | Episodes: 137 | Win count: 13 | Win rate: 0.250 | time: 16.66 minutes\n",
      "Epoch: 063/14999 | Loss: 0.1149 | Episodes: 138 | Win count: 13 | Win rate: 0.250 | time: 16.98 minutes\n",
      "Epoch: 064/14999 | Loss: 0.0252 | Episodes: 32 | Win count: 14 | Win rate: 0.281 | time: 17.05 minutes\n",
      "Epoch: 065/14999 | Loss: 0.0510 | Episodes: 51 | Win count: 15 | Win rate: 0.312 | time: 17.18 minutes\n",
      "Epoch: 066/14999 | Loss: 0.1235 | Episodes: 135 | Win count: 15 | Win rate: 0.281 | time: 17.49 minutes\n",
      "Epoch: 067/14999 | Loss: 0.1280 | Episodes: 148 | Win count: 15 | Win rate: 0.281 | time: 17.82 minutes\n",
      "Epoch: 068/14999 | Loss: 0.1779 | Episodes: 147 | Win count: 15 | Win rate: 0.281 | time: 18.16 minutes\n",
      "Epoch: 069/14999 | Loss: 0.1584 | Episodes: 138 | Win count: 15 | Win rate: 0.281 | time: 18.48 minutes\n",
      "Epoch: 070/14999 | Loss: 0.0331 | Episodes: 33 | Win count: 16 | Win rate: 0.312 | time: 18.55 minutes\n",
      "Epoch: 071/14999 | Loss: 0.1741 | Episodes: 138 | Win count: 16 | Win rate: 0.312 | time: 18.87 minutes\n",
      "Epoch: 072/14999 | Loss: 0.1408 | Episodes: 138 | Win count: 16 | Win rate: 0.281 | time: 19.21 minutes\n",
      "Epoch: 073/14999 | Loss: 0.1194 | Episodes: 141 | Win count: 16 | Win rate: 0.281 | time: 19.54 minutes\n",
      "Epoch: 074/14999 | Loss: 0.1195 | Episodes: 142 | Win count: 16 | Win rate: 0.281 | time: 19.88 minutes\n",
      "Epoch: 075/14999 | Loss: 0.1442 | Episodes: 146 | Win count: 16 | Win rate: 0.250 | time: 20.22 minutes\n",
      "Epoch: 076/14999 | Loss: 0.1491 | Episodes: 141 | Win count: 16 | Win rate: 0.219 | time: 20.53 minutes\n",
      "Epoch: 077/14999 | Loss: 0.1595 | Episodes: 142 | Win count: 16 | Win rate: 0.219 | time: 20.86 minutes\n",
      "Epoch: 078/14999 | Loss: 0.1705 | Episodes: 148 | Win count: 16 | Win rate: 0.219 | time: 21.20 minutes\n",
      "Epoch: 079/14999 | Loss: 0.1337 | Episodes: 134 | Win count: 16 | Win rate: 0.219 | time: 21.49 minutes\n",
      "Epoch: 080/14999 | Loss: 0.1134 | Episodes: 134 | Win count: 16 | Win rate: 0.188 | time: 21.79 minutes\n",
      "Epoch: 081/14999 | Loss: 0.1247 | Episodes: 144 | Win count: 16 | Win rate: 0.188 | time: 22.12 minutes\n",
      "Epoch: 082/14999 | Loss: 0.1158 | Episodes: 146 | Win count: 16 | Win rate: 0.188 | time: 22.44 minutes\n",
      "Epoch: 083/14999 | Loss: 0.0396 | Episodes: 41 | Win count: 17 | Win rate: 0.219 | time: 22.53 minutes\n",
      "Epoch: 084/14999 | Loss: 0.2254 | Episodes: 146 | Win count: 17 | Win rate: 0.219 | time: 22.84 minutes\n",
      "Epoch: 085/14999 | Loss: 0.0750 | Episodes: 35 | Win count: 18 | Win rate: 0.219 | time: 22.92 minutes\n",
      "Epoch: 086/14999 | Loss: 0.3585 | Episodes: 140 | Win count: 18 | Win rate: 0.219 | time: 23.21 minutes\n",
      "Epoch: 087/14999 | Loss: 0.2811 | Episodes: 139 | Win count: 18 | Win rate: 0.219 | time: 23.49 minutes\n",
      "Epoch: 088/14999 | Loss: 0.1732 | Episodes: 146 | Win count: 18 | Win rate: 0.188 | time: 23.79 minutes\n",
      "Epoch: 089/14999 | Loss: 0.1804 | Episodes: 153 | Win count: 18 | Win rate: 0.188 | time: 24.12 minutes\n",
      "Epoch: 090/14999 | Loss: 0.1561 | Episodes: 139 | Win count: 18 | Win rate: 0.188 | time: 24.42 minutes\n",
      "Epoch: 091/14999 | Loss: 0.1500 | Episodes: 136 | Win count: 18 | Win rate: 0.188 | time: 24.72 minutes\n",
      "Epoch: 092/14999 | Loss: 0.0038 | Episodes: 4 | Win count: 19 | Win rate: 0.219 | time: 24.73 minutes\n",
      "Epoch: 093/14999 | Loss: 0.0779 | Episodes: 53 | Win count: 20 | Win rate: 0.219 | time: 24.85 minutes\n",
      "Epoch: 094/14999 | Loss: 0.2026 | Episodes: 135 | Win count: 20 | Win rate: 0.219 | time: 25.14 minutes\n",
      "Epoch: 095/14999 | Loss: 0.0011 | Episodes: 2 | Win count: 21 | Win rate: 0.250 | time: 25.14 minutes\n",
      "Epoch: 096/14999 | Loss: 0.2007 | Episodes: 134 | Win count: 21 | Win rate: 0.219 | time: 25.44 minutes\n",
      "Epoch: 097/14999 | Loss: 0.2020 | Episodes: 143 | Win count: 21 | Win rate: 0.188 | time: 25.75 minutes\n",
      "Epoch: 098/14999 | Loss: 0.1195 | Episodes: 135 | Win count: 21 | Win rate: 0.188 | time: 26.04 minutes\n",
      "Epoch: 099/14999 | Loss: 0.1012 | Episodes: 144 | Win count: 21 | Win rate: 0.188 | time: 26.34 minutes\n",
      "Epoch: 100/14999 | Loss: 0.0324 | Episodes: 43 | Win count: 22 | Win rate: 0.219 | time: 26.43 minutes\n",
      "Epoch: 101/14999 | Loss: 0.2329 | Episodes: 140 | Win count: 22 | Win rate: 0.219 | time: 26.75 minutes\n",
      "Epoch: 102/14999 | Loss: 0.0972 | Episodes: 74 | Win count: 23 | Win rate: 0.219 | time: 26.92 minutes\n",
      "Epoch: 103/14999 | Loss: 0.0059 | Episodes: 5 | Win count: 24 | Win rate: 0.250 | time: 26.94 minutes\n",
      "Epoch: 104/14999 | Loss: 0.2241 | Episodes: 134 | Win count: 24 | Win rate: 0.250 | time: 27.25 minutes\n",
      "Epoch: 105/14999 | Loss: 0.2591 | Episodes: 138 | Win count: 24 | Win rate: 0.250 | time: 27.56 minutes\n",
      "Epoch: 106/14999 | Loss: 0.0418 | Episodes: 36 | Win count: 25 | Win rate: 0.281 | time: 27.65 minutes\n",
      "Epoch: 107/14999 | Loss: 0.0662 | Episodes: 43 | Win count: 26 | Win rate: 0.312 | time: 27.77 minutes\n",
      "Epoch: 108/14999 | Loss: 0.2566 | Episodes: 137 | Win count: 26 | Win rate: 0.312 | time: 28.07 minutes\n",
      "Epoch: 109/14999 | Loss: 0.2049 | Episodes: 139 | Win count: 27 | Win rate: 0.344 | time: 28.39 minutes\n",
      "Epoch: 110/14999 | Loss: 0.0692 | Episodes: 38 | Win count: 28 | Win rate: 0.375 | time: 28.48 minutes\n",
      "Epoch: 111/14999 | Loss: 0.3054 | Episodes: 148 | Win count: 28 | Win rate: 0.375 | time: 28.82 minutes\n",
      "Epoch: 112/14999 | Loss: 0.0015 | Episodes: 1 | Win count: 29 | Win rate: 0.406 | time: 28.82 minutes\n",
      "Epoch: 113/14999 | Loss: 0.2455 | Episodes: 135 | Win count: 29 | Win rate: 0.406 | time: 29.13 minutes\n",
      "Epoch: 114/14999 | Loss: 0.1618 | Episodes: 138 | Win count: 29 | Win rate: 0.406 | time: 29.45 minutes\n",
      "Epoch: 115/14999 | Loss: 0.1538 | Episodes: 141 | Win count: 29 | Win rate: 0.375 | time: 29.79 minutes\n",
      "Epoch: 116/14999 | Loss: 0.1141 | Episodes: 139 | Win count: 29 | Win rate: 0.375 | time: 30.14 minutes\n",
      "Epoch: 117/14999 | Loss: 0.0223 | Episodes: 26 | Win count: 30 | Win rate: 0.375 | time: 30.20 minutes\n",
      "Epoch: 118/14999 | Loss: 0.1323 | Episodes: 134 | Win count: 30 | Win rate: 0.375 | time: 30.51 minutes\n",
      "Epoch: 119/14999 | Loss: 0.0378 | Episodes: 30 | Win count: 31 | Win rate: 0.406 | time: 30.58 minutes\n",
      "Epoch: 120/14999 | Loss: 0.0019 | Episodes: 2 | Win count: 32 | Win rate: 0.438 | time: 30.59 minutes\n",
      "Epoch: 121/14999 | Loss: 0.1751 | Episodes: 134 | Win count: 32 | Win rate: 0.438 | time: 30.90 minutes\n",
      "Epoch: 122/14999 | Loss: 0.0941 | Episodes: 134 | Win count: 32 | Win rate: 0.438 | time: 31.20 minutes\n",
      "Epoch: 123/14999 | Loss: 0.0006 | Episodes: 1 | Win count: 33 | Win rate: 0.469 | time: 31.21 minutes\n",
      "Epoch: 124/14999 | Loss: 0.0774 | Episodes: 139 | Win count: 33 | Win rate: 0.438 | time: 31.55 minutes\n",
      "Epoch: 125/14999 | Loss: 0.0013 | Episodes: 2 | Win count: 34 | Win rate: 0.438 | time: 31.55 minutes\n"
     ]
    },
    {
     "name": "stdout",
     "output_type": "stream",
     "text": [
      "Epoch: 126/14999 | Loss: 0.0820 | Episodes: 135 | Win count: 34 | Win rate: 0.438 | time: 31.86 minutes\n",
      "Epoch: 127/14999 | Loss: 0.1260 | Episodes: 147 | Win count: 34 | Win rate: 0.406 | time: 32.21 minutes\n",
      "Epoch: 128/14999 | Loss: 0.1593 | Episodes: 144 | Win count: 34 | Win rate: 0.406 | time: 32.54 minutes\n",
      "Epoch: 129/14999 | Loss: 0.1332 | Episodes: 137 | Win count: 34 | Win rate: 0.406 | time: 32.86 minutes\n",
      "Epoch: 130/14999 | Loss: 0.1257 | Episodes: 139 | Win count: 34 | Win rate: 0.406 | time: 33.17 minutes\n",
      "Epoch: 131/14999 | Loss: 0.0008 | Episodes: 1 | Win count: 35 | Win rate: 0.438 | time: 33.18 minutes\n",
      "Epoch: 132/14999 | Loss: 0.1125 | Episodes: 137 | Win count: 35 | Win rate: 0.406 | time: 33.48 minutes\n",
      "Epoch: 133/14999 | Loss: 0.0061 | Episodes: 10 | Win count: 36 | Win rate: 0.438 | time: 33.51 minutes\n",
      "Epoch: 134/14999 | Loss: 0.1103 | Episodes: 139 | Win count: 36 | Win rate: 0.406 | time: 33.81 minutes\n",
      "Epoch: 135/14999 | Loss: 0.1005 | Episodes: 139 | Win count: 36 | Win rate: 0.375 | time: 34.12 minutes\n",
      "Epoch: 136/14999 | Loss: 0.0066 | Episodes: 11 | Win count: 37 | Win rate: 0.406 | time: 34.14 minutes\n",
      "Epoch: 137/14999 | Loss: 0.0111 | Episodes: 15 | Win count: 38 | Win rate: 0.438 | time: 34.18 minutes\n",
      "Epoch: 138/14999 | Loss: 0.0077 | Episodes: 8 | Win count: 39 | Win rate: 0.438 | time: 34.19 minutes\n",
      "Epoch: 139/14999 | Loss: 0.1281 | Episodes: 141 | Win count: 39 | Win rate: 0.406 | time: 34.52 minutes\n",
      "Epoch: 140/14999 | Loss: 0.1275 | Episodes: 146 | Win count: 39 | Win rate: 0.406 | time: 34.85 minutes\n",
      "Epoch: 141/14999 | Loss: 0.0745 | Episodes: 67 | Win count: 40 | Win rate: 0.406 | time: 35.01 minutes\n",
      "Epoch: 142/14999 | Loss: 0.2443 | Episodes: 138 | Win count: 41 | Win rate: 0.406 | time: 35.31 minutes\n",
      "Epoch: 143/14999 | Loss: 0.1612 | Episodes: 84 | Win count: 42 | Win rate: 0.438 | time: 35.49 minutes\n",
      "Epoch: 144/14999 | Loss: 0.2401 | Episodes: 138 | Win count: 42 | Win rate: 0.406 | time: 35.79 minutes\n",
      "Epoch: 145/14999 | Loss: 0.2337 | Episodes: 134 | Win count: 42 | Win rate: 0.406 | time: 36.09 minutes\n",
      "Epoch: 146/14999 | Loss: 0.3934 | Episodes: 139 | Win count: 42 | Win rate: 0.406 | time: 36.40 minutes\n",
      "Epoch: 147/14999 | Loss: 0.0969 | Episodes: 63 | Win count: 43 | Win rate: 0.438 | time: 36.54 minutes\n",
      "Epoch: 148/14999 | Loss: 0.1196 | Episodes: 135 | Win count: 43 | Win rate: 0.438 | time: 36.84 minutes\n",
      "Epoch: 149/14999 | Loss: 0.0199 | Episodes: 22 | Win count: 44 | Win rate: 0.438 | time: 36.89 minutes\n",
      "Epoch: 150/14999 | Loss: 0.0945 | Episodes: 97 | Win count: 45 | Win rate: 0.469 | time: 37.11 minutes\n",
      "Epoch: 151/14999 | Loss: 0.0009 | Episodes: 1 | Win count: 46 | Win rate: 0.469 | time: 37.11 minutes\n",
      "Epoch: 152/14999 | Loss: 0.1398 | Episodes: 133 | Win count: 46 | Win rate: 0.438 | time: 37.42 minutes\n",
      "Epoch: 153/14999 | Loss: 0.1338 | Episodes: 141 | Win count: 46 | Win rate: 0.438 | time: 37.75 minutes\n",
      "Epoch: 154/14999 | Loss: 0.0180 | Episodes: 21 | Win count: 47 | Win rate: 0.469 | time: 37.79 minutes\n",
      "Epoch: 155/14999 | Loss: 0.1335 | Episodes: 141 | Win count: 47 | Win rate: 0.438 | time: 38.12 minutes\n",
      "Epoch: 156/14999 | Loss: 0.1187 | Episodes: 140 | Win count: 47 | Win rate: 0.438 | time: 38.43 minutes\n",
      "Epoch: 157/14999 | Loss: 0.1315 | Episodes: 145 | Win count: 47 | Win rate: 0.406 | time: 38.76 minutes\n",
      "Epoch: 158/14999 | Loss: 0.0595 | Episodes: 56 | Win count: 48 | Win rate: 0.438 | time: 38.89 minutes\n",
      "Epoch: 159/14999 | Loss: 0.2093 | Episodes: 161 | Win count: 49 | Win rate: 0.469 | time: 39.26 minutes\n",
      "Epoch: 160/14999 | Loss: 0.0344 | Episodes: 24 | Win count: 50 | Win rate: 0.500 | time: 39.31 minutes\n",
      "Epoch: 161/14999 | Loss: 0.2788 | Episodes: 140 | Win count: 50 | Win rate: 0.500 | time: 39.64 minutes\n",
      "Epoch: 162/14999 | Loss: 0.0185 | Episodes: 10 | Win count: 51 | Win rate: 0.531 | time: 39.66 minutes\n",
      "Epoch: 163/14999 | Loss: 0.0018 | Episodes: 1 | Win count: 52 | Win rate: 0.531 | time: 39.66 minutes\n",
      "Epoch: 164/14999 | Loss: 0.2338 | Episodes: 124 | Win count: 53 | Win rate: 0.562 | time: 39.94 minutes\n",
      "Epoch: 165/14999 | Loss: 0.0524 | Episodes: 34 | Win count: 54 | Win rate: 0.562 | time: 40.02 minutes\n",
      "Epoch: 166/14999 | Loss: 0.2358 | Episodes: 139 | Win count: 54 | Win rate: 0.562 | time: 40.34 minutes\n",
      "Epoch: 167/14999 | Loss: 0.1897 | Episodes: 142 | Win count: 54 | Win rate: 0.562 | time: 40.65 minutes\n",
      "Epoch: 168/14999 | Loss: 0.0243 | Episodes: 21 | Win count: 55 | Win rate: 0.562 | time: 40.69 minutes\n",
      "Epoch: 169/14999 | Loss: 0.0204 | Episodes: 17 | Win count: 56 | Win rate: 0.562 | time: 40.73 minutes\n",
      "Epoch: 170/14999 | Loss: 0.0854 | Episodes: 66 | Win count: 57 | Win rate: 0.562 | time: 40.88 minutes\n",
      "Epoch: 171/14999 | Loss: 0.0697 | Episodes: 56 | Win count: 58 | Win rate: 0.594 | time: 41.01 minutes\n",
      "Epoch: 172/14999 | Loss: 0.0193 | Episodes: 16 | Win count: 59 | Win rate: 0.625 | time: 41.04 minutes\n",
      "Epoch: 173/14999 | Loss: 0.0092 | Episodes: 7 | Win count: 60 | Win rate: 0.625 | time: 41.06 minutes\n",
      "Epoch: 174/14999 | Loss: 0.0728 | Episodes: 57 | Win count: 61 | Win rate: 0.625 | time: 41.19 minutes\n",
      "Epoch: 175/14999 | Loss: 0.0090 | Episodes: 9 | Win count: 62 | Win rate: 0.625 | time: 41.22 minutes\n",
      "Epoch: 176/14999 | Loss: 0.1543 | Episodes: 138 | Win count: 62 | Win rate: 0.625 | time: 41.52 minutes\n",
      "Epoch: 177/14999 | Loss: 0.0080 | Episodes: 8 | Win count: 63 | Win rate: 0.656 | time: 41.53 minutes\n",
      "Epoch: 178/14999 | Loss: 0.1763 | Episodes: 157 | Win count: 64 | Win rate: 0.688 | time: 41.87 minutes\n",
      "Epoch: 179/14999 | Loss: 0.1024 | Episodes: 80 | Win count: 65 | Win rate: 0.688 | time: 42.05 minutes\n",
      "Epoch: 180/14999 | Loss: 0.0266 | Episodes: 20 | Win count: 66 | Win rate: 0.719 | time: 42.10 minutes\n",
      "Epoch: 181/14999 | Loss: 0.0524 | Episodes: 37 | Win count: 67 | Win rate: 0.719 | time: 42.19 minutes\n",
      "Epoch: 182/14999 | Loss: 0.0189 | Episodes: 15 | Win count: 68 | Win rate: 0.719 | time: 42.22 minutes\n",
      "Epoch: 183/14999 | Loss: 0.0660 | Episodes: 45 | Win count: 69 | Win rate: 0.719 | time: 42.32 minutes\n",
      "Epoch: 184/14999 | Loss: 0.1358 | Episodes: 94 | Win count: 70 | Win rate: 0.750 | time: 42.53 minutes\n",
      "Epoch: 185/14999 | Loss: 0.0334 | Episodes: 25 | Win count: 71 | Win rate: 0.781 | time: 42.58 minutes\n",
      "Epoch: 186/14999 | Loss: 0.0423 | Episodes: 28 | Win count: 72 | Win rate: 0.781 | time: 42.64 minutes\n",
      "Epoch: 187/14999 | Loss: 0.0354 | Episodes: 22 | Win count: 73 | Win rate: 0.812 | time: 42.69 minutes\n",
      "Epoch: 188/14999 | Loss: 0.1559 | Episodes: 131 | Win count: 73 | Win rate: 0.812 | time: 42.99 minutes\n",
      "Epoch: 189/14999 | Loss: 0.0062 | Episodes: 6 | Win count: 74 | Win rate: 0.844 | time: 43.01 minutes\n",
      "Epoch: 190/14999 | Loss: 0.1163 | Episodes: 137 | Win count: 74 | Win rate: 0.812 | time: 43.31 minutes\n",
      "Epoch: 191/14999 | Loss: 0.0266 | Episodes: 40 | Win count: 75 | Win rate: 0.812 | time: 43.39 minutes\n",
      "Epoch: 192/14999 | Loss: 0.0154 | Episodes: 18 | Win count: 76 | Win rate: 0.812 | time: 43.43 minutes\n",
      "Epoch: 193/14999 | Loss: 0.0323 | Episodes: 44 | Win count: 77 | Win rate: 0.844 | time: 43.51 minutes\n",
      "Epoch: 194/14999 | Loss: 0.0010 | Episodes: 2 | Win count: 78 | Win rate: 0.844 | time: 43.51 minutes\n",
      "Epoch: 195/14999 | Loss: 0.0161 | Episodes: 24 | Win count: 79 | Win rate: 0.844 | time: 43.56 minutes\n",
      "Epoch: 196/14999 | Loss: 0.0143 | Episodes: 20 | Win count: 80 | Win rate: 0.844 | time: 43.60 minutes\n",
      "Epoch: 197/14999 | Loss: 0.0039 | Episodes: 7 | Win count: 81 | Win rate: 0.844 | time: 43.61 minutes\n",
      "Epoch: 198/14999 | Loss: 0.0616 | Episodes: 133 | Win count: 81 | Win rate: 0.844 | time: 43.86 minutes\n",
      "Epoch: 199/14999 | Loss: 0.0080 | Episodes: 19 | Win count: 82 | Win rate: 0.875 | time: 43.89 minutes\n",
      "Epoch: 200/14999 | Loss: 0.0066 | Episodes: 14 | Win count: 83 | Win rate: 0.875 | time: 43.92 minutes\n",
      "Epoch: 201/14999 | Loss: 0.0148 | Episodes: 28 | Win count: 84 | Win rate: 0.875 | time: 43.97 minutes\n",
      "Epoch: 202/14999 | Loss: 0.0038 | Episodes: 8 | Win count: 85 | Win rate: 0.875 | time: 43.99 minutes\n",
      "Epoch: 203/14999 | Loss: 0.0080 | Episodes: 14 | Win count: 86 | Win rate: 0.875 | time: 44.01 minutes\n",
      "Epoch: 204/14999 | Loss: 0.0350 | Episodes: 56 | Win count: 87 | Win rate: 0.875 | time: 44.12 minutes\n",
      "Epoch: 205/14999 | Loss: 0.0076 | Episodes: 17 | Win count: 88 | Win rate: 0.875 | time: 44.15 minutes\n"
     ]
    },
    {
     "name": "stdout",
     "output_type": "stream",
     "text": [
      "Epoch: 206/14999 | Loss: 0.0082 | Episodes: 15 | Win count: 89 | Win rate: 0.875 | time: 44.18 minutes\n",
      "Epoch: 207/14999 | Loss: 0.0111 | Episodes: 21 | Win count: 90 | Win rate: 0.875 | time: 44.22 minutes\n",
      "Epoch: 208/14999 | Loss: 0.0126 | Episodes: 20 | Win count: 91 | Win rate: 0.906 | time: 44.26 minutes\n",
      "Epoch: 209/14999 | Loss: 0.0648 | Episodes: 132 | Win count: 91 | Win rate: 0.875 | time: 44.54 minutes\n",
      "Epoch: 210/14999 | Loss: 0.0362 | Episodes: 131 | Win count: 91 | Win rate: 0.844 | time: 44.82 minutes\n",
      "Epoch: 211/14999 | Loss: 0.0307 | Episodes: 130 | Win count: 91 | Win rate: 0.812 | time: 45.09 minutes\n",
      "Epoch: 212/14999 | Loss: 0.0008 | Episodes: 3 | Win count: 92 | Win rate: 0.812 | time: 45.10 minutes\n",
      "Epoch: 213/14999 | Loss: 0.0041 | Episodes: 17 | Win count: 93 | Win rate: 0.812 | time: 45.13 minutes\n",
      "Epoch: 214/14999 | Loss: 0.0006 | Episodes: 2 | Win count: 94 | Win rate: 0.812 | time: 45.13 minutes\n",
      "Epoch: 215/14999 | Loss: 0.0185 | Episodes: 56 | Win count: 95 | Win rate: 0.812 | time: 45.26 minutes\n",
      "Epoch: 216/14999 | Loss: 0.0114 | Episodes: 27 | Win count: 96 | Win rate: 0.812 | time: 45.32 minutes\n",
      "Epoch: 217/14999 | Loss: 0.0672 | Episodes: 139 | Win count: 96 | Win rate: 0.781 | time: 45.58 minutes\n",
      "Epoch: 218/14999 | Loss: 0.0084 | Episodes: 17 | Win count: 97 | Win rate: 0.781 | time: 45.61 minutes\n",
      "Epoch: 219/14999 | Loss: 0.0379 | Episodes: 49 | Win count: 98 | Win rate: 0.781 | time: 45.71 minutes\n",
      "Epoch: 220/14999 | Loss: 0.0168 | Episodes: 19 | Win count: 99 | Win rate: 0.812 | time: 45.74 minutes\n",
      "Epoch: 221/14999 | Loss: 0.0008 | Episodes: 1 | Win count: 100 | Win rate: 0.812 | time: 45.74 minutes\n",
      "Epoch: 222/14999 | Loss: 0.0249 | Episodes: 27 | Win count: 101 | Win rate: 0.844 | time: 45.79 minutes\n",
      "Epoch: 223/14999 | Loss: 0.0764 | Episodes: 62 | Win count: 102 | Win rate: 0.844 | time: 45.91 minutes\n",
      "Epoch: 224/14999 | Loss: 0.0426 | Episodes: 37 | Win count: 103 | Win rate: 0.844 | time: 45.98 minutes\n",
      "Epoch: 225/14999 | Loss: 0.0040 | Episodes: 4 | Win count: 104 | Win rate: 0.844 | time: 45.99 minutes\n",
      "Epoch: 226/14999 | Loss: 0.0241 | Episodes: 23 | Win count: 105 | Win rate: 0.844 | time: 46.03 minutes\n",
      "Epoch: 227/14999 | Loss: 0.0178 | Episodes: 14 | Win count: 106 | Win rate: 0.844 | time: 46.05 minutes\n",
      "Epoch: 228/14999 | Loss: 0.0016 | Episodes: 1 | Win count: 107 | Win rate: 0.844 | time: 46.06 minutes\n",
      "Epoch: 229/14999 | Loss: 0.0381 | Episodes: 33 | Win count: 108 | Win rate: 0.844 | time: 46.11 minutes\n",
      "Epoch: 230/14999 | Loss: 0.0359 | Episodes: 30 | Win count: 109 | Win rate: 0.875 | time: 46.17 minutes\n",
      "Epoch: 231/14999 | Loss: 0.0482 | Episodes: 38 | Win count: 110 | Win rate: 0.875 | time: 46.25 minutes\n",
      "Epoch: 232/14999 | Loss: 0.0277 | Episodes: 25 | Win count: 111 | Win rate: 0.875 | time: 46.29 minutes\n",
      "Epoch: 233/14999 | Loss: 0.0030 | Episodes: 3 | Win count: 112 | Win rate: 0.875 | time: 46.30 minutes\n",
      "Epoch: 234/14999 | Loss: 0.0031 | Episodes: 3 | Win count: 113 | Win rate: 0.875 | time: 46.31 minutes\n",
      "Epoch: 235/14999 | Loss: 0.0136 | Episodes: 13 | Win count: 114 | Win rate: 0.875 | time: 46.33 minutes\n",
      "Epoch: 236/14999 | Loss: 0.0011 | Episodes: 1 | Win count: 115 | Win rate: 0.875 | time: 46.33 minutes\n",
      "Epoch: 237/14999 | Loss: 0.0039 | Episodes: 4 | Win count: 116 | Win rate: 0.875 | time: 46.34 minutes\n",
      "Epoch: 238/14999 | Loss: 0.0318 | Episodes: 32 | Win count: 117 | Win rate: 0.875 | time: 46.41 minutes\n",
      "Epoch: 239/14999 | Loss: 0.0284 | Episodes: 28 | Win count: 118 | Win rate: 0.875 | time: 46.47 minutes\n",
      "Epoch: 240/14999 | Loss: 0.0259 | Episodes: 26 | Win count: 119 | Win rate: 0.875 | time: 46.52 minutes\n",
      "Epoch: 241/14999 | Loss: 0.0305 | Episodes: 39 | Win count: 120 | Win rate: 0.906 | time: 46.59 minutes\n",
      "Epoch: 242/14999 | Loss: 0.0115 | Episodes: 14 | Win count: 121 | Win rate: 0.938 | time: 46.62 minutes\n",
      "Epoch: 243/14999 | Loss: 0.0017 | Episodes: 2 | Win count: 122 | Win rate: 0.969 | time: 46.62 minutes\n",
      "Epoch: 244/14999 | Loss: 0.0228 | Episodes: 27 | Win count: 123 | Win rate: 0.969 | time: 46.67 minutes\n",
      "Epoch: 245/14999 | Loss: 0.0008 | Episodes: 1 | Win count: 124 | Win rate: 0.969 | time: 46.67 minutes\n",
      "Epoch: 246/14999 | Loss: 0.0230 | Episodes: 32 | Win count: 125 | Win rate: 0.969 | time: 46.73 minutes\n",
      "Epoch: 247/14999 | Loss: 0.0136 | Episodes: 21 | Win count: 126 | Win rate: 0.969 | time: 46.77 minutes\n",
      "Epoch: 248/14999 | Loss: 0.0483 | Episodes: 61 | Win count: 127 | Win rate: 0.969 | time: 46.88 minutes\n",
      "Epoch: 249/14999 | Loss: 0.0065 | Episodes: 9 | Win count: 128 | Win rate: 1.000 | time: 46.90 minutes\n",
      "Epoch: 250/14999 | Loss: 0.0326 | Episodes: 40 | Win count: 129 | Win rate: 1.000 | time: 46.98 minutes\n",
      "Epoch: 251/14999 | Loss: 0.0123 | Episodes: 20 | Win count: 130 | Win rate: 1.000 | time: 47.02 minutes\n",
      "Epoch: 252/14999 | Loss: 0.0060 | Episodes: 8 | Win count: 131 | Win rate: 1.000 | time: 47.04 minutes\n",
      "Epoch: 253/14999 | Loss: 0.0131 | Episodes: 18 | Win count: 132 | Win rate: 1.000 | time: 47.07 minutes\n",
      "Epoch: 254/14999 | Loss: 0.1483 | Episodes: 142 | Win count: 132 | Win rate: 0.969 | time: 47.35 minutes\n",
      "Epoch: 255/14999 | Loss: 0.0624 | Episodes: 50 | Win count: 133 | Win rate: 0.969 | time: 47.44 minutes\n",
      "Epoch: 256/14999 | Loss: 0.0229 | Episodes: 19 | Win count: 134 | Win rate: 0.969 | time: 47.48 minutes\n",
      "Epoch: 257/14999 | Loss: 0.0259 | Episodes: 21 | Win count: 135 | Win rate: 0.969 | time: 47.52 minutes\n",
      "Epoch: 258/14999 | Loss: 0.0268 | Episodes: 18 | Win count: 136 | Win rate: 0.969 | time: 47.55 minutes\n",
      "Epoch: 259/14999 | Loss: 0.0216 | Episodes: 17 | Win count: 137 | Win rate: 0.969 | time: 47.59 minutes\n",
      "Epoch: 260/14999 | Loss: 0.0364 | Episodes: 31 | Win count: 138 | Win rate: 0.969 | time: 47.64 minutes\n",
      "Epoch: 261/14999 | Loss: 0.0088 | Episodes: 7 | Win count: 139 | Win rate: 0.969 | time: 47.66 minutes\n",
      "Epoch: 262/14999 | Loss: 0.0036 | Episodes: 2 | Win count: 140 | Win rate: 0.969 | time: 47.66 minutes\n",
      "Epoch: 263/14999 | Loss: 0.0007 | Episodes: 1 | Win count: 141 | Win rate: 0.969 | time: 47.66 minutes\n",
      "Epoch: 264/14999 | Loss: 0.0495 | Episodes: 38 | Win count: 142 | Win rate: 0.969 | time: 47.73 minutes\n",
      "Epoch: 265/14999 | Loss: 0.0371 | Episodes: 25 | Win count: 143 | Win rate: 0.969 | time: 47.78 minutes\n",
      "Epoch: 266/14999 | Loss: 0.0441 | Episodes: 37 | Win count: 144 | Win rate: 0.969 | time: 47.86 minutes\n",
      "Epoch: 267/14999 | Loss: 0.0503 | Episodes: 39 | Win count: 145 | Win rate: 0.969 | time: 47.93 minutes\n",
      "Epoch: 268/14999 | Loss: 0.0251 | Episodes: 21 | Win count: 146 | Win rate: 0.969 | time: 47.97 minutes\n",
      "Epoch: 269/14999 | Loss: 0.0402 | Episodes: 31 | Win count: 147 | Win rate: 0.969 | time: 48.03 minutes\n",
      "Epoch: 270/14999 | Loss: 0.0380 | Episodes: 27 | Win count: 148 | Win rate: 0.969 | time: 48.08 minutes\n",
      "Epoch: 271/14999 | Loss: 0.0410 | Episodes: 34 | Win count: 149 | Win rate: 0.969 | time: 48.15 minutes\n",
      "Epoch: 272/14999 | Loss: 0.0268 | Episodes: 22 | Win count: 150 | Win rate: 0.969 | time: 48.19 minutes\n",
      "Epoch: 273/14999 | Loss: 0.0191 | Episodes: 15 | Win count: 151 | Win rate: 0.969 | time: 48.22 minutes\n",
      "Epoch: 274/14999 | Loss: 0.0107 | Episodes: 10 | Win count: 152 | Win rate: 0.969 | time: 48.24 minutes\n",
      "Epoch: 275/14999 | Loss: 0.0246 | Episodes: 24 | Win count: 153 | Win rate: 0.969 | time: 48.29 minutes\n",
      "Epoch: 276/14999 | Loss: 0.0086 | Episodes: 7 | Win count: 154 | Win rate: 0.969 | time: 48.30 minutes\n",
      "Epoch: 277/14999 | Loss: 0.0041 | Episodes: 5 | Win count: 155 | Win rate: 0.969 | time: 48.31 minutes\n",
      "Epoch: 278/14999 | Loss: 0.0012 | Episodes: 1 | Win count: 156 | Win rate: 0.969 | time: 48.31 minutes\n",
      "Epoch: 279/14999 | Loss: 0.0180 | Episodes: 22 | Win count: 157 | Win rate: 0.969 | time: 48.35 minutes\n",
      "Epoch: 280/14999 | Loss: 0.0135 | Episodes: 23 | Win count: 158 | Win rate: 0.969 | time: 48.40 minutes\n",
      "Epoch: 281/14999 | Loss: 0.0462 | Episodes: 59 | Win count: 159 | Win rate: 0.969 | time: 48.51 minutes\n",
      "Epoch: 282/14999 | Loss: 0.0057 | Episodes: 6 | Win count: 160 | Win rate: 0.969 | time: 48.52 minutes\n",
      "Epoch: 283/14999 | Loss: 0.0110 | Episodes: 14 | Win count: 161 | Win rate: 0.969 | time: 48.55 minutes\n",
      "Epoch: 284/14999 | Loss: 0.0199 | Episodes: 27 | Win count: 162 | Win rate: 0.969 | time: 48.60 minutes\n",
      "Epoch: 285/14999 | Loss: 0.0002 | Episodes: 1 | Win count: 163 | Win rate: 0.969 | time: 48.60 minutes\n"
     ]
    },
    {
     "name": "stdout",
     "output_type": "stream",
     "text": [
      "Epoch: 286/14999 | Loss: 0.0227 | Episodes: 30 | Win count: 164 | Win rate: 1.000 | time: 48.66 minutes\n",
      "Epoch: 287/14999 | Loss: 0.0098 | Episodes: 13 | Win count: 165 | Win rate: 1.000 | time: 48.69 minutes\n",
      "Epoch: 288/14999 | Loss: 0.0177 | Episodes: 23 | Win count: 166 | Win rate: 1.000 | time: 48.74 minutes\n",
      "Epoch: 289/14999 | Loss: 0.0049 | Episodes: 9 | Win count: 167 | Win rate: 1.000 | time: 48.76 minutes\n",
      "Epoch: 290/14999 | Loss: 0.0121 | Episodes: 20 | Win count: 168 | Win rate: 1.000 | time: 48.80 minutes\n",
      "Epoch: 291/14999 | Loss: 0.0345 | Episodes: 46 | Win count: 169 | Win rate: 1.000 | time: 48.90 minutes\n",
      "Epoch: 292/14999 | Loss: 0.0035 | Episodes: 6 | Win count: 170 | Win rate: 1.000 | time: 48.92 minutes\n",
      "Epoch: 293/14999 | Loss: 0.0053 | Episodes: 7 | Win count: 171 | Win rate: 1.000 | time: 48.94 minutes\n",
      "Epoch: 294/14999 | Loss: 0.0018 | Episodes: 2 | Win count: 172 | Win rate: 1.000 | time: 48.94 minutes\n",
      "Epoch: 295/14999 | Loss: 0.0654 | Episodes: 131 | Win count: 172 | Win rate: 0.969 | time: 49.19 minutes\n",
      "Epoch: 296/14999 | Loss: 0.0147 | Episodes: 28 | Win count: 173 | Win rate: 0.969 | time: 49.24 minutes\n",
      "Epoch: 297/14999 | Loss: 0.0666 | Episodes: 129 | Win count: 173 | Win rate: 0.938 | time: 49.52 minutes\n",
      "Epoch: 298/14999 | Loss: 0.0070 | Episodes: 19 | Win count: 174 | Win rate: 0.938 | time: 49.56 minutes\n",
      "Epoch: 299/14999 | Loss: 0.0087 | Episodes: 23 | Win count: 175 | Win rate: 0.938 | time: 49.61 minutes\n",
      "Epoch: 300/14999 | Loss: 0.0078 | Episodes: 24 | Win count: 176 | Win rate: 0.938 | time: 49.66 minutes\n",
      "Epoch: 301/14999 | Loss: 0.0071 | Episodes: 23 | Win count: 177 | Win rate: 0.938 | time: 49.71 minutes\n",
      "Epoch: 302/14999 | Loss: 0.0029 | Episodes: 12 | Win count: 178 | Win rate: 0.938 | time: 49.73 minutes\n",
      "Epoch: 303/14999 | Loss: 0.0155 | Episodes: 32 | Win count: 179 | Win rate: 0.938 | time: 49.81 minutes\n",
      "Epoch: 304/14999 | Loss: 0.0093 | Episodes: 27 | Win count: 180 | Win rate: 0.938 | time: 49.87 minutes\n",
      "Epoch: 305/14999 | Loss: 0.0074 | Episodes: 25 | Win count: 181 | Win rate: 0.938 | time: 49.93 minutes\n",
      "Epoch: 306/14999 | Loss: 0.0000 | Episodes: 1 | Win count: 182 | Win rate: 0.938 | time: 49.93 minutes\n",
      "Epoch: 307/14999 | Loss: 0.0032 | Episodes: 9 | Win count: 183 | Win rate: 0.938 | time: 49.95 minutes\n",
      "Epoch: 308/14999 | Loss: 0.0018 | Episodes: 10 | Win count: 184 | Win rate: 0.938 | time: 49.97 minutes\n",
      "Epoch: 309/14999 | Loss: 0.0045 | Episodes: 19 | Win count: 185 | Win rate: 0.938 | time: 50.01 minutes\n",
      "Epoch: 310/14999 | Loss: 0.0007 | Episodes: 5 | Win count: 186 | Win rate: 0.938 | time: 50.02 minutes\n",
      "Epoch: 311/14999 | Loss: 0.0019 | Episodes: 6 | Win count: 187 | Win rate: 0.938 | time: 50.04 minutes\n",
      "Epoch: 312/14999 | Loss: 0.0017 | Episodes: 8 | Win count: 188 | Win rate: 0.938 | time: 50.06 minutes\n",
      "Epoch: 313/14999 | Loss: 0.0003 | Episodes: 2 | Win count: 189 | Win rate: 0.938 | time: 50.06 minutes\n",
      "Epoch: 314/14999 | Loss: 0.0005 | Episodes: 3 | Win count: 190 | Win rate: 0.938 | time: 50.07 minutes\n",
      "Epoch: 315/14999 | Loss: 0.0046 | Episodes: 14 | Win count: 191 | Win rate: 0.938 | time: 50.10 minutes\n",
      "Epoch: 316/14999 | Loss: 0.0852 | Episodes: 155 | Win count: 191 | Win rate: 0.906 | time: 50.43 minutes\n",
      "Epoch: 317/14999 | Loss: 0.0407 | Episodes: 57 | Win count: 192 | Win rate: 0.906 | time: 50.54 minutes\n",
      "Epoch: 318/14999 | Loss: 0.0011 | Episodes: 2 | Win count: 193 | Win rate: 0.906 | time: 50.54 minutes\n",
      "Epoch: 319/14999 | Loss: 0.0264 | Episodes: 30 | Win count: 194 | Win rate: 0.906 | time: 50.60 minutes\n",
      "Epoch: 320/14999 | Loss: 0.0074 | Episodes: 9 | Win count: 195 | Win rate: 0.906 | time: 50.61 minutes\n",
      "Epoch: 321/14999 | Loss: 0.0074 | Episodes: 8 | Win count: 196 | Win rate: 0.906 | time: 50.63 minutes\n",
      "Epoch: 322/14999 | Loss: 0.0043 | Episodes: 5 | Win count: 197 | Win rate: 0.906 | time: 50.64 minutes\n",
      "Epoch: 323/14999 | Loss: 0.1051 | Episodes: 107 | Win count: 198 | Win rate: 0.906 | time: 50.84 minutes\n",
      "Epoch: 324/14999 | Loss: 0.0071 | Episodes: 7 | Win count: 199 | Win rate: 0.906 | time: 50.86 minutes\n",
      "Epoch: 325/14999 | Loss: 0.0120 | Episodes: 13 | Win count: 200 | Win rate: 0.906 | time: 50.88 minutes\n",
      "Epoch: 326/14999 | Loss: 0.0429 | Episodes: 41 | Win count: 201 | Win rate: 0.906 | time: 50.96 minutes\n",
      "Epoch: 327/14999 | Loss: 0.0312 | Episodes: 30 | Win count: 202 | Win rate: 0.938 | time: 51.01 minutes\n",
      "Epoch: 328/14999 | Loss: 0.0223 | Episodes: 23 | Win count: 203 | Win rate: 0.938 | time: 51.05 minutes\n",
      "Epoch: 329/14999 | Loss: 0.0325 | Episodes: 31 | Win count: 204 | Win rate: 0.969 | time: 51.11 minutes\n",
      "Epoch: 330/14999 | Loss: 0.0362 | Episodes: 36 | Win count: 205 | Win rate: 0.969 | time: 51.17 minutes\n",
      "Epoch: 331/14999 | Loss: 0.0258 | Episodes: 26 | Win count: 206 | Win rate: 0.969 | time: 51.22 minutes\n",
      "Epoch: 332/14999 | Loss: 0.0070 | Episodes: 7 | Win count: 207 | Win rate: 0.969 | time: 51.24 minutes\n",
      "Epoch: 333/14999 | Loss: 0.0146 | Episodes: 13 | Win count: 208 | Win rate: 0.969 | time: 51.26 minutes\n",
      "Epoch: 334/14999 | Loss: 0.0316 | Episodes: 39 | Win count: 209 | Win rate: 0.969 | time: 51.33 minutes\n",
      "Epoch: 335/14999 | Loss: 0.0140 | Episodes: 19 | Win count: 210 | Win rate: 0.969 | time: 51.37 minutes\n",
      "Epoch: 336/14999 | Loss: 0.0076 | Episodes: 9 | Win count: 211 | Win rate: 0.969 | time: 51.38 minutes\n",
      "Epoch: 337/14999 | Loss: 0.0047 | Episodes: 7 | Win count: 212 | Win rate: 0.969 | time: 51.40 minutes\n",
      "Epoch: 338/14999 | Loss: 0.0364 | Episodes: 48 | Win count: 213 | Win rate: 0.969 | time: 51.48 minutes\n",
      "Epoch: 339/14999 | Loss: 0.0020 | Episodes: 4 | Win count: 214 | Win rate: 0.969 | time: 51.49 minutes\n",
      "Epoch: 340/14999 | Loss: 0.0107 | Episodes: 13 | Win count: 215 | Win rate: 0.969 | time: 51.52 minutes\n",
      "Epoch: 341/14999 | Loss: 0.0116 | Episodes: 20 | Win count: 216 | Win rate: 0.969 | time: 51.56 minutes\n",
      "Epoch: 342/14999 | Loss: 0.0091 | Episodes: 16 | Win count: 217 | Win rate: 0.969 | time: 51.59 minutes\n",
      "Epoch: 343/14999 | Loss: 0.0008 | Episodes: 1 | Win count: 218 | Win rate: 0.969 | time: 51.59 minutes\n",
      "Epoch: 344/14999 | Loss: 0.0036 | Episodes: 7 | Win count: 219 | Win rate: 0.969 | time: 51.60 minutes\n",
      "Epoch: 345/14999 | Loss: 0.0023 | Episodes: 5 | Win count: 220 | Win rate: 0.969 | time: 51.61 minutes\n",
      "Epoch: 346/14999 | Loss: 0.0112 | Episodes: 21 | Win count: 221 | Win rate: 0.969 | time: 51.65 minutes\n",
      "Epoch: 347/14999 | Loss: 0.0162 | Episodes: 33 | Win count: 222 | Win rate: 0.969 | time: 51.71 minutes\n",
      "Epoch: 348/14999 | Loss: 0.0116 | Episodes: 24 | Win count: 223 | Win rate: 1.000 | time: 51.75 minutes\n",
      "Epoch: 349/14999 | Loss: 0.0019 | Episodes: 6 | Win count: 224 | Win rate: 1.000 | time: 51.77 minutes\n",
      "Epoch: 350/14999 | Loss: 0.0248 | Episodes: 45 | Win count: 225 | Win rate: 1.000 | time: 51.85 minutes\n",
      "Epoch: 351/14999 | Loss: 0.0073 | Episodes: 13 | Win count: 226 | Win rate: 1.000 | time: 51.89 minutes\n",
      "Epoch: 352/14999 | Loss: 0.0106 | Episodes: 16 | Win count: 227 | Win rate: 1.000 | time: 51.93 minutes\n",
      "Epoch: 353/14999 | Loss: 0.0138 | Episodes: 26 | Win count: 228 | Win rate: 1.000 | time: 51.99 minutes\n",
      "Epoch: 354/14999 | Loss: 0.0150 | Episodes: 28 | Win count: 229 | Win rate: 1.000 | time: 52.05 minutes\n",
      "Epoch: 355/14999 | Loss: 0.0009 | Episodes: 2 | Win count: 230 | Win rate: 1.000 | time: 52.06 minutes\n",
      "Epoch: 356/14999 | Loss: 0.0029 | Episodes: 5 | Win count: 231 | Win rate: 1.000 | time: 52.08 minutes\n",
      "Epoch: 357/14999 | Loss: 0.0086 | Episodes: 19 | Win count: 232 | Win rate: 1.000 | time: 52.12 minutes\n",
      "Epoch: 358/14999 | Loss: 0.0167 | Episodes: 34 | Win count: 233 | Win rate: 1.000 | time: 52.19 minutes\n",
      "Epoch: 359/14999 | Loss: 0.0137 | Episodes: 34 | Win count: 234 | Win rate: 1.000 | time: 52.26 minutes\n",
      "Epoch: 360/14999 | Loss: 0.0016 | Episodes: 4 | Win count: 235 | Win rate: 1.000 | time: 52.27 minutes\n",
      "Epoch: 361/14999 | Loss: 0.0022 | Episodes: 4 | Win count: 236 | Win rate: 1.000 | time: 52.28 minutes\n",
      "Epoch: 362/14999 | Loss: 0.0049 | Episodes: 9 | Win count: 237 | Win rate: 1.000 | time: 52.30 minutes\n",
      "Epoch: 363/14999 | Loss: 0.0099 | Episodes: 19 | Win count: 238 | Win rate: 1.000 | time: 52.36 minutes\n",
      "Epoch: 364/14999 | Loss: 0.0103 | Episodes: 26 | Win count: 239 | Win rate: 1.000 | time: 52.41 minutes\n",
      "Epoch: 365/14999 | Loss: 0.0096 | Episodes: 26 | Win count: 240 | Win rate: 1.000 | time: 52.46 minutes\n"
     ]
    },
    {
     "name": "stdout",
     "output_type": "stream",
     "text": [
      "Epoch: 366/14999 | Loss: 0.0078 | Episodes: 26 | Win count: 241 | Win rate: 1.000 | time: 52.51 minutes\n",
      "Epoch: 367/14999 | Loss: 0.0067 | Episodes: 22 | Win count: 242 | Win rate: 1.000 | time: 52.56 minutes\n",
      "Epoch: 368/14999 | Loss: 0.0095 | Episodes: 25 | Win count: 243 | Win rate: 1.000 | time: 52.62 minutes\n",
      "Epoch: 369/14999 | Loss: 0.0049 | Episodes: 16 | Win count: 244 | Win rate: 1.000 | time: 52.65 minutes\n",
      "Epoch: 370/14999 | Loss: 0.0037 | Episodes: 9 | Win count: 245 | Win rate: 1.000 | time: 52.67 minutes\n",
      "Epoch: 371/14999 | Loss: 0.0071 | Episodes: 13 | Win count: 246 | Win rate: 1.000 | time: 52.70 minutes\n",
      "Epoch: 372/14999 | Loss: 0.0064 | Episodes: 14 | Win count: 247 | Win rate: 1.000 | time: 52.73 minutes\n",
      "Epoch: 373/14999 | Loss: 0.0030 | Episodes: 4 | Win count: 248 | Win rate: 1.000 | time: 52.75 minutes\n",
      "Epoch: 374/14999 | Loss: 0.0126 | Episodes: 29 | Win count: 249 | Win rate: 1.000 | time: 52.82 minutes\n",
      "Epoch: 375/14999 | Loss: 0.0007 | Episodes: 2 | Win count: 250 | Win rate: 1.000 | time: 52.84 minutes\n",
      "Epoch: 376/14999 | Loss: 0.0098 | Episodes: 24 | Win count: 251 | Win rate: 1.000 | time: 52.89 minutes\n",
      "Epoch: 377/14999 | Loss: 0.0130 | Episodes: 24 | Win count: 252 | Win rate: 1.000 | time: 52.95 minutes\n",
      "Epoch: 378/14999 | Loss: 0.0042 | Episodes: 5 | Win count: 253 | Win rate: 1.000 | time: 52.96 minutes\n",
      "Epoch: 379/14999 | Loss: 0.0065 | Episodes: 11 | Win count: 254 | Win rate: 1.000 | time: 52.99 minutes\n",
      "Epoch: 380/14999 | Loss: 0.0077 | Episodes: 14 | Win count: 255 | Win rate: 1.000 | time: 53.04 minutes\n",
      "Epoch: 381/14999 | Loss: 0.0053 | Episodes: 10 | Win count: 256 | Win rate: 1.000 | time: 53.06 minutes\n",
      "Epoch: 382/14999 | Loss: 0.0159 | Episodes: 29 | Win count: 257 | Win rate: 1.000 | time: 53.13 minutes\n",
      "Epoch: 383/14999 | Loss: 0.0139 | Episodes: 23 | Win count: 258 | Win rate: 1.000 | time: 53.17 minutes\n",
      "Epoch: 384/14999 | Loss: 0.0059 | Episodes: 10 | Win count: 259 | Win rate: 1.000 | time: 53.19 minutes\n",
      "Epoch: 385/14999 | Loss: 0.0156 | Episodes: 34 | Win count: 260 | Win rate: 1.000 | time: 53.27 minutes\n",
      "Epoch: 386/14999 | Loss: 0.0013 | Episodes: 3 | Win count: 261 | Win rate: 1.000 | time: 53.27 minutes\n",
      "Epoch: 387/14999 | Loss: 0.0106 | Episodes: 22 | Win count: 262 | Win rate: 1.000 | time: 53.32 minutes\n",
      "Epoch: 388/14999 | Loss: 0.0023 | Episodes: 5 | Win count: 263 | Win rate: 1.000 | time: 53.34 minutes\n",
      "Epoch: 389/14999 | Loss: 0.0108 | Episodes: 14 | Win count: 264 | Win rate: 1.000 | time: 53.37 minutes\n",
      "Epoch: 390/14999 | Loss: 0.0148 | Episodes: 24 | Win count: 265 | Win rate: 1.000 | time: 53.43 minutes\n",
      "Epoch: 391/14999 | Loss: 0.0012 | Episodes: 1 | Win count: 266 | Win rate: 1.000 | time: 53.44 minutes\n",
      "Epoch: 392/14999 | Loss: 0.0193 | Episodes: 37 | Win count: 267 | Win rate: 1.000 | time: 53.52 minutes\n",
      "Epoch: 393/14999 | Loss: 0.0087 | Episodes: 13 | Win count: 268 | Win rate: 1.000 | time: 53.55 minutes\n",
      "Epoch: 394/14999 | Loss: 0.0157 | Episodes: 26 | Win count: 269 | Win rate: 1.000 | time: 53.61 minutes\n",
      "Epoch: 395/14999 | Loss: 0.0057 | Episodes: 9 | Win count: 270 | Win rate: 1.000 | time: 53.64 minutes\n",
      "Epoch: 396/14999 | Loss: 0.0049 | Episodes: 9 | Win count: 271 | Win rate: 1.000 | time: 53.66 minutes\n",
      "Epoch: 397/14999 | Loss: 0.0148 | Episodes: 30 | Win count: 272 | Win rate: 1.000 | time: 53.72 minutes\n",
      "Epoch: 398/14999 | Loss: 0.0119 | Episodes: 24 | Win count: 273 | Win rate: 1.000 | time: 53.78 minutes\n",
      "Epoch: 399/14999 | Loss: 0.0125 | Episodes: 24 | Win count: 274 | Win rate: 1.000 | time: 53.82 minutes\n",
      "Epoch: 400/14999 | Loss: 0.0087 | Episodes: 20 | Win count: 275 | Win rate: 1.000 | time: 53.87 minutes\n",
      "Epoch: 401/14999 | Loss: 0.0012 | Episodes: 3 | Win count: 276 | Win rate: 1.000 | time: 53.89 minutes\n",
      "Epoch: 402/14999 | Loss: 0.0002 | Episodes: 1 | Win count: 277 | Win rate: 1.000 | time: 53.90 minutes\n",
      "Epoch: 403/14999 | Loss: 0.0099 | Episodes: 23 | Win count: 278 | Win rate: 1.000 | time: 53.96 minutes\n",
      "Epoch: 404/14999 | Loss: 0.0021 | Episodes: 4 | Win count: 279 | Win rate: 1.000 | time: 53.98 minutes\n",
      "Epoch: 405/14999 | Loss: 0.0025 | Episodes: 5 | Win count: 280 | Win rate: 1.000 | time: 54.00 minutes\n",
      "Epoch: 406/14999 | Loss: 0.0040 | Episodes: 9 | Win count: 281 | Win rate: 1.000 | time: 54.03 minutes\n",
      "Epoch: 407/14999 | Loss: 0.0148 | Episodes: 32 | Win count: 282 | Win rate: 1.000 | time: 54.11 minutes\n",
      "Epoch: 408/14999 | Loss: 0.0090 | Episodes: 23 | Win count: 283 | Win rate: 1.000 | time: 54.17 minutes\n",
      "Epoch: 409/14999 | Loss: 0.0101 | Episodes: 26 | Win count: 284 | Win rate: 1.000 | time: 54.23 minutes\n",
      "Epoch: 410/14999 | Loss: 0.0071 | Episodes: 17 | Win count: 285 | Win rate: 1.000 | time: 54.27 minutes\n",
      "Epoch: 411/14999 | Loss: 0.0164 | Episodes: 32 | Win count: 286 | Win rate: 1.000 | time: 54.36 minutes\n",
      "Epoch: 412/14999 | Loss: 0.0065 | Episodes: 23 | Win count: 287 | Win rate: 1.000 | time: 54.42 minutes\n",
      "Epoch: 413/14999 | Loss: 0.0077 | Episodes: 19 | Win count: 288 | Win rate: 1.000 | time: 54.47 minutes\n",
      "Epoch: 414/14999 | Loss: 0.0053 | Episodes: 24 | Win count: 289 | Win rate: 1.000 | time: 54.53 minutes\n",
      "Epoch: 415/14999 | Loss: 0.0082 | Episodes: 30 | Win count: 290 | Win rate: 1.000 | time: 54.62 minutes\n",
      "Epoch: 416/14999 | Loss: 0.0050 | Episodes: 12 | Win count: 291 | Win rate: 1.000 | time: 54.66 minutes\n",
      "Epoch: 417/14999 | Loss: 0.0115 | Episodes: 38 | Win count: 292 | Win rate: 1.000 | time: 54.76 minutes\n",
      "Epoch: 418/14999 | Loss: 0.0062 | Episodes: 18 | Win count: 293 | Win rate: 1.000 | time: 54.81 minutes\n",
      "Epoch: 419/14999 | Loss: 0.0094 | Episodes: 29 | Win count: 294 | Win rate: 1.000 | time: 54.88 minutes\n",
      "Epoch: 420/14999 | Loss: 0.0072 | Episodes: 23 | Win count: 295 | Win rate: 1.000 | time: 54.94 minutes\n",
      "Epoch: 421/14999 | Loss: 0.0085 | Episodes: 27 | Win count: 296 | Win rate: 1.000 | time: 55.02 minutes\n",
      "Epoch: 422/14999 | Loss: 0.0090 | Episodes: 24 | Win count: 297 | Win rate: 1.000 | time: 55.09 minutes\n",
      "Epoch: 423/14999 | Loss: 0.0024 | Episodes: 7 | Win count: 298 | Win rate: 1.000 | time: 55.12 minutes\n",
      "Epoch: 424/14999 | Loss: 0.0040 | Episodes: 13 | Win count: 299 | Win rate: 1.000 | time: 55.16 minutes\n",
      "Reached 100% win rate at epoch: 424\n",
      "n_epoch: 424, max_mem: 512, data: 32, time: 55.17 minutes\n"
     ]
    },
    {
     "data": {
      "text/plain": [
       "3310.479149"
      ]
     },
     "execution_count": 11,
     "metadata": {},
     "output_type": "execute_result"
    }
   ],
   "source": [
    "model = build_model(maze)\n",
    "qtrain(model, maze, epochs=500, max_memory=8*maze.size, data_size=32)"
   ]
  },
  {
   "cell_type": "markdown",
   "metadata": {},
   "source": [
    "This cell will check to see if the model passes the completion check. Note: This could take several minutes."
   ]
  },
  {
   "cell_type": "code",
   "execution_count": 12,
   "metadata": {},
   "outputs": [
    {
     "data": {
      "text/plain": [
       "<matplotlib.image.AxesImage at 0x1f5cc5ab408>"
      ]
     },
     "execution_count": 12,
     "metadata": {},
     "output_type": "execute_result"
    },
    {
     "data": {
      "image/png": "[encoded data removed]",
      "text/plain": [
       "<Figure size 432x288 with 1 Axes>"
      ]
     },
     "metadata": {
      "needs_background": "light"
     },
     "output_type": "display_data"
    }
   ],
   "source": [
    "completion_check(model, qmaze)\n",
    "show(qmaze)"
   ]
  },
  {
   "cell_type": "markdown",
   "metadata": {},
   "source": [
    "This cell will test your model for one game. It will start the pirate at the top-left corner and run play_game. The agent should find a path from the starting position to the target (treasure). The treasure is located in the bottom-right corner."
   ]
  },
  {
   "cell_type": "code",
   "execution_count": 13,
   "metadata": {},
   "outputs": [
    {
     "data": {
      "text/plain": [
       "<matplotlib.image.AxesImage at 0x1f5cc2a9a08>"
      ]
     },
     "execution_count": 13,
     "metadata": {},
     "output_type": "execute_result"
    },
    {
     "data": {
      "image/png": "[encoded data removed]",
      "text/plain": [
       "<Figure size 432x288 with 1 Axes>"
      ]
     },
     "metadata": {
      "needs_background": "light"
     },
     "output_type": "display_data"
    }
   ],
   "source": [
    "pirate_start = (0, 0)\n",
    "play_game(model, qmaze, pirate_start)\n",
    "show(qmaze)"
   ]
  },
  {
   "cell_type": "markdown",
   "metadata": {},
   "source": [
    "## Save and Submit Your Work\n",
    "After you have finished creating the code for your notebook, save your work. Make sure that your notebook contains your name in the filename (e.g. Doe_Jane_ProjectTwo.ipynb). This will help your instructor access and grade your work easily. Download a copy of your IPYNB file and submit it to Brightspace. Refer to the Jupyter Notebook in Apporto Tutorial if you need help with these tasks."
   ]
  }
 ],
 "metadata": {
  "kernelspec": {
   "display_name": "Python 3",
   "language": "python",
   "name": "python3"
  },
  "language_info": {
   "codemirror_mode": {
    "name": "ipython",
    "version": 3
   },
   "file_extension": ".py",
   "mimetype": "text/x-python",
   "name": "python",
   "nbconvert_exporter": "python",
   "pygments_lexer": "ipython3",
   "version": "3.7.4"
  }
 },
 "nbformat": 4,
 "nbformat_minor": 2
}
